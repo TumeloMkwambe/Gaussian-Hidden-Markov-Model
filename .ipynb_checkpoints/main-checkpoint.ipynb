{
 "cells": [
  {
   "cell_type": "code",
   "execution_count": 1,
   "id": "885407d1-e701-499f-97a4-5c988a7d40c6",
   "metadata": {},
   "outputs": [],
   "source": [
    "import numpy as np\n",
    "import pandas as pd\n",
    "from data import Stock\n",
    "from analysis import Analysis\n",
    "from hidden_markov_model import Hidden_Markov_Model"
   ]
  },
  {
   "cell_type": "code",
   "execution_count": 2,
   "id": "50154aed-8921-43c2-8772-73badb851992",
   "metadata": {},
   "outputs": [],
   "source": [
    "sa40 = Stock('JTOPI')\n",
    "sa40.series_data = pd.read_csv('South_Africa_Top_40_Historical_Data.csv')\n",
    "sa40.preprocess()\n",
    "\n",
    "analysis = Analysis()\n",
    "analysis.add_log_return(sa40)\n",
    "sa40.series_data.dropna(inplace=True)"
   ]
  },
  {
   "cell_type": "code",
   "execution_count": null,
   "id": "eba51779-6c3c-4d9c-8216-f7e0cf2d8f30",
   "metadata": {},
   "outputs": [
    {
     "name": "stdout",
     "output_type": "stream",
     "text": [
      "Iteration 1 . . . Log-Likelihood = 3829.6423359948685\n",
      "Iteration 2 . . . Log-Likelihood = 3829.833415894259\n",
      "Iteration 3 . . . Log-Likelihood = 3833.085002321147\n",
      "Iteration 4 . . . Log-Likelihood = 3859.128015648992\n",
      "Iteration 5 . . . Log-Likelihood = 3907.61710031364\n",
      "Iteration 6 . . . Log-Likelihood = 3934.924241010514\n",
      "Iteration 7 . . . Log-Likelihood = 3945.978054219807\n"
     ]
    }
   ],
   "source": [
    "model = Hidden_Markov_Model(sa40.series_data['Log_Return'].to_numpy(), 4)\n",
    "model.baum_welch_algorithm(0.001, 100)"
   ]
  },
  {
   "cell_type": "code",
   "execution_count": null,
   "id": "b2f236e1-0a70-4175-a1ae-9afc0fc6b533",
   "metadata": {},
   "outputs": [],
   "source": [
    "model.get_parameters()"
   ]
  },
  {
   "cell_type": "code",
   "execution_count": null,
   "id": "b5a58d8d-5205-4ec8-9082-ff2e00b355c2",
   "metadata": {},
   "outputs": [],
   "source": [
    "mean_array, variance_array = model.get_mean_variance()\n",
    "\n",
    "analysis.plot_distributions(mean_array, variance_array)"
   ]
  },
  {
   "cell_type": "code",
   "execution_count": null,
   "id": "5a933469-3aae-4ce9-9eed-406d1ad0083f",
   "metadata": {},
   "outputs": [],
   "source": [
    "import matplotlib.pyplot as plt\n",
    "import numpy as np\n",
    "\n",
    "def plot_means_vs_variances(mean_array, variance_array):\n",
    "    num_points = len(mean_array)\n",
    "    colors = plt.cm.tab10(np.arange(num_points) % 10)  # Cycle through tab10 colors\n",
    "\n",
    "    plt.figure(figsize=(8, 6))\n",
    "    plt.scatter(mean_array, variance_array, c=colors, s=100, edgecolors='black')\n",
    "\n",
    "    for i, (mu, var) in enumerate(zip(mean_array, variance_array)):\n",
    "        plt.text(mu, var, f'State {i}', fontsize=9, ha='right', va='bottom')\n",
    "\n",
    "    plt.title(\"Means vs Variances of Hidden States\")\n",
    "    plt.xlabel(\"Mean ($\\\\mu$)\")\n",
    "    plt.ylabel(\"Variance ($\\\\sigma^2$)\")\n",
    "    plt.grid(True)\n",
    "    plt.tight_layout()\n",
    "    plt.show()\n",
    "\n",
    "plot_means_vs_variances(mean_array, variance_array)"
   ]
  },
  {
   "cell_type": "code",
   "execution_count": null,
   "id": "5354d39d-bdb5-427a-bffe-9275df41c8f7",
   "metadata": {},
   "outputs": [],
   "source": [
    "state_sequence = model.viterbi_algorithm()"
   ]
  },
  {
   "cell_type": "code",
   "execution_count": null,
   "id": "3fe1c1f3-6dbb-4de9-ae6e-b73a4390afc1",
   "metadata": {},
   "outputs": [],
   "source": [
    "state_sequence"
   ]
  },
  {
   "cell_type": "code",
   "execution_count": null,
   "id": "90f62e62-2944-4d95-a378-ee3b039fe140",
   "metadata": {},
   "outputs": [],
   "source": [
    "import matplotlib.pyplot as plt\n",
    "import numpy as np\n",
    "import matplotlib.dates as mdates\n",
    "\n",
    "def plot_price_with_states(stock, column, state_sequence):\n",
    "    colours = ['red', 'green', 'yellow', 'blue']\n",
    "    stock_data = stock.series_data[[column, 'Date']].copy()\n",
    "    stock_data = stock_data.reset_index(drop=True)\n",
    "\n",
    "    fig, ax = plt.subplots(figsize=(12, 6))\n",
    "    ax.plot(stock_data['Date'], stock_data[column], label=column, color='black')\n",
    "\n",
    "    legend_handles = {}\n",
    "\n",
    "    current_state = state_sequence[0]\n",
    "    start_idx = 0\n",
    "\n",
    "    for t in range(1, len(state_sequence)):\n",
    "        if state_sequence[t] != current_state or t == len(state_sequence) - 1:\n",
    "            end_idx = t if state_sequence[t] != current_state else t + 1\n",
    "            color = colours[current_state % len(colours)] # Use modulo to handle cases with more states than colors\n",
    "            label = f\"State {current_state}\"\n",
    "            if current_state not in legend_handles:\n",
    "                ax.axvspan(stock_data['Date'][start_idx], stock_data['Date'][end_idx - 1],\n",
    "                           color=color, alpha=0.2, label=label)\n",
    "                legend_handles[current_state] = True\n",
    "            else:\n",
    "                ax.axvspan(stock_data['Date'][start_idx], stock_data['Date'][end_idx - 1],\n",
    "                           color=color, alpha=0.2)\n",
    "            current_state = state_sequence[t]\n",
    "            start_idx = t\n",
    "\n",
    "    color = colours[current_state % len(colours)]\n",
    "    label = f\"State {current_state}\"\n",
    "    ax.axvspan(stock_data['Date'][start_idx], stock_data['Date'][len(stock_data) - 1],\n",
    "               color=color, alpha=0.2, label=label if current_state not in legend_handles else None)\n",
    "    legend_handles[current_state] = True\n",
    "\n",
    "    ax.set_title(f\"{stock.ticker} {column} with Hidden States\")\n",
    "    ax.set_xlabel(\"Date\")\n",
    "    ax.set_ylabel(column)\n",
    "    ax.legend()\n",
    "    ax.grid(True)\n",
    "    fig.tight_layout()\n",
    "    plt.show()\n"
   ]
  },
  {
   "cell_type": "code",
   "execution_count": null,
   "id": "1c336d92-7bf8-4e50-82f0-43bd3b8327ef",
   "metadata": {},
   "outputs": [],
   "source": [
    "plot_price_with_states(sa40, 'Price', state_sequence)"
   ]
  },
  {
   "cell_type": "code",
   "execution_count": null,
   "id": "e35252d7-8f33-4f39-97ba-ade8c5ab0469",
   "metadata": {},
   "outputs": [],
   "source": []
  }
 ],
 "metadata": {
  "kernelspec": {
   "display_name": "Python 3 (ipykernel)",
   "language": "python",
   "name": "python3"
  },
  "language_info": {
   "codemirror_mode": {
    "name": "ipython",
    "version": 3
   },
   "file_extension": ".py",
   "mimetype": "text/x-python",
   "name": "python",
   "nbconvert_exporter": "python",
   "pygments_lexer": "ipython3",
   "version": "3.12.3"
  }
 },
 "nbformat": 4,
 "nbformat_minor": 5
}
